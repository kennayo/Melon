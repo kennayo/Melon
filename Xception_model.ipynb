{
 "cells": [
  {
   "cell_type": "code",
   "execution_count": 1,
   "id": "6e46f41c",
   "metadata": {},
   "outputs": [
    {
     "name": "stdout",
     "output_type": "stream",
     "text": [
      "WARNING:tensorflow:From C:\\Users\\adrie\\AppData\\Roaming\\Python\\Python311\\site-packages\\keras\\src\\losses.py:2976: The name tf.losses.sparse_softmax_cross_entropy is deprecated. Please use tf.compat.v1.losses.sparse_softmax_cross_entropy instead.\n",
      "\n"
     ]
    }
   ],
   "source": [
    "import tensorflow as tf\n",
    "from tensorflow.keras.preprocessing.image import ImageDataGenerator\n",
    "from tensorflow.keras.applications import Xception\n",
    "from tensorflow.keras.layers import GlobalAveragePooling2D, Dense\n",
    "from tensorflow.keras.models import Model\n",
    "from tensorflow.keras.optimizers import Adam"
   ]
  },
  {
   "cell_type": "code",
   "execution_count": 2,
   "id": "171ac213",
   "metadata": {},
   "outputs": [],
   "source": [
    "# Define image size and directories\n",
    "IMAGE_SIZE = [299, 299]\n",
    "train_directory = r\"C:\\Users\\adrie\\OneDrive\\Desktop\\img.class\\melon_dataset\\train\"\n",
    "test_directory = r\"C:\\Users\\adrie\\OneDrive\\Desktop\\img.class\\melon_dataset\\test\"\n",
    "val_directory = r\"C:\\Users\\adrie\\OneDrive\\Desktop\\img.class\\melon_dataset\\val\""
   ]
  },
  {
   "cell_type": "code",
   "execution_count": 3,
   "id": "454265ed",
   "metadata": {},
   "outputs": [],
   "source": [
    "# Data augmentation for training set\n",
    "train_datagen = ImageDataGenerator(\n",
    "    rescale=1./255,\n",
    "    shear_range=0.2,\n",
    "    zoom_range=0.2,\n",
    "    horizontal_flip=True\n",
    ")"
   ]
  },
  {
   "cell_type": "code",
   "execution_count": 4,
   "id": "e5daa406",
   "metadata": {},
   "outputs": [],
   "source": [
    "# Data augmentation for testing set (only rescaling)\n",
    "test_datagen = ImageDataGenerator(rescale=1./255)"
   ]
  },
  {
   "cell_type": "code",
   "execution_count": 5,
   "id": "ff0eeec4",
   "metadata": {},
   "outputs": [
    {
     "name": "stdout",
     "output_type": "stream",
     "text": [
      "Found 1615 images belonging to 10 classes.\n",
      "Found 550 images belonging to 10 classes.\n"
     ]
    }
   ],
   "source": [
    "# Load training and testing sets with data augmentation\n",
    "training_set = train_datagen.flow_from_directory(\n",
    "    train_directory,\n",
    "    target_size=IMAGE_SIZE,\n",
    "    batch_size=32,\n",
    "    class_mode='categorical'\n",
    ")\n",
    "\n",
    "test_set = test_datagen.flow_from_directory(\n",
    "    test_directory,\n",
    "    target_size=IMAGE_SIZE,\n",
    "    batch_size=32,\n",
    "    class_mode='categorical'\n",
    ")"
   ]
  },
  {
   "cell_type": "code",
   "execution_count": 7,
   "id": "100f11f8",
   "metadata": {},
   "outputs": [],
   "source": [
    "# Add preprocessing layer to the front of Xception\n",
    "xception = Xception(input_shape=(299, 299, 3), weights='imagenet', include_top=False)\n",
    "\n",
    "# Freeze the layers\n",
    "for layer in xception.layers:\n",
    "    layer.trainable = False\n",
    "\n",
    "# Global Average Pooling\n",
    "x = GlobalAveragePooling2D()(xception.output)\n",
    "\n",
    "# Fully Connected Layer\n",
    "x = Dense(128, activation='relu')(x)\n",
    "\n",
    "# Output Layer\n",
    "output_tensor = Dense(10, activation='softmax')(x)\n",
    "\n",
    "# Create the model\n",
    "model = Model(inputs=xception.input, outputs=output_tensor)"
   ]
  },
  {
   "cell_type": "code",
   "execution_count": 8,
   "id": "aac52260",
   "metadata": {},
   "outputs": [],
   "source": [
    "# Compile the model\n",
    "model.compile(\n",
    "    loss='categorical_crossentropy',\n",
    "    optimizer=Adam(learning_rate=0.001),\n",
    "    metrics=['accuracy']\n",
    ")"
   ]
  },
  {
   "cell_type": "code",
   "execution_count": 9,
   "id": "d5ae2d8d",
   "metadata": {},
   "outputs": [
    {
     "name": "stdout",
     "output_type": "stream",
     "text": [
      "Epoch 1/10\n",
      "WARNING:tensorflow:From C:\\Users\\adrie\\AppData\\Roaming\\Python\\Python311\\site-packages\\keras\\src\\utils\\tf_utils.py:492: The name tf.ragged.RaggedTensorValue is deprecated. Please use tf.compat.v1.ragged.RaggedTensorValue instead.\n",
      "\n",
      "WARNING:tensorflow:From C:\\Users\\adrie\\AppData\\Roaming\\Python\\Python311\\site-packages\\keras\\src\\engine\\base_layer_utils.py:384: The name tf.executing_eagerly_outside_functions is deprecated. Please use tf.compat.v1.executing_eagerly_outside_functions instead.\n",
      "\n",
      "51/51 [==============================] - 484s 9s/step - loss: 0.8977 - accuracy: 0.7337 - val_loss: 0.3518 - val_accuracy: 0.8964\n",
      "Epoch 2/10\n",
      "51/51 [==============================] - 406s 8s/step - loss: 0.2745 - accuracy: 0.9245 - val_loss: 0.2888 - val_accuracy: 0.9055\n",
      "Epoch 3/10\n",
      "51/51 [==============================] - 395s 8s/step - loss: 0.1810 - accuracy: 0.9523 - val_loss: 0.1985 - val_accuracy: 0.9345\n",
      "Epoch 4/10\n",
      "51/51 [==============================] - 316s 6s/step - loss: 0.1250 - accuracy: 0.9709 - val_loss: 0.1626 - val_accuracy: 0.9364\n",
      "Epoch 5/10\n",
      "51/51 [==============================] - 317s 6s/step - loss: 0.0960 - accuracy: 0.9759 - val_loss: 0.1450 - val_accuracy: 0.9545\n",
      "Epoch 6/10\n",
      "51/51 [==============================] - 302s 6s/step - loss: 0.0872 - accuracy: 0.9789 - val_loss: 0.1159 - val_accuracy: 0.9655\n",
      "Epoch 7/10\n",
      "51/51 [==============================] - 301s 6s/step - loss: 0.0664 - accuracy: 0.9882 - val_loss: 0.0994 - val_accuracy: 0.9655\n",
      "Epoch 8/10\n",
      "51/51 [==============================] - 297s 6s/step - loss: 0.0452 - accuracy: 0.9944 - val_loss: 0.1040 - val_accuracy: 0.9709\n",
      "Epoch 9/10\n",
      "51/51 [==============================] - 311s 6s/step - loss: 0.0525 - accuracy: 0.9864 - val_loss: 0.1584 - val_accuracy: 0.9436\n",
      "Epoch 10/10\n",
      "51/51 [==============================] - 318s 6s/step - loss: 0.0440 - accuracy: 0.9920 - val_loss: 0.0882 - val_accuracy: 0.9745\n"
     ]
    }
   ],
   "source": [
    "# Train the model\n",
    "history = model.fit(\n",
    "    training_set,\n",
    "    validation_data=test_set,\n",
    "    epochs=10,\n",
    "    steps_per_epoch=len(training_set),\n",
    "    validation_steps=len(test_set)\n",
    ")"
   ]
  },
  {
   "cell_type": "code",
   "execution_count": 13,
   "id": "a773c1bd",
   "metadata": {},
   "outputs": [],
   "source": [
    "# Save the model\n",
    "model.save('melon_species_Xception.h5')\n",
    "\n",
    "import matplotlib.pyplot as plt\n"
   ]
  },
  {
   "cell_type": "code",
   "execution_count": 14,
   "id": "352646ea",
   "metadata": {},
   "outputs": [
    {
     "data": {
      "text/plain": [
       "<matplotlib.legend.Legend at 0x2108d634d10>"
      ]
     },
     "execution_count": 14,
     "metadata": {},
     "output_type": "execute_result"
    },
    {
     "data": {
      "image/png": "[encoded data removed]",
      "text/plain": [
       "<Figure size 640x480 with 1 Axes>"
      ]
     },
     "metadata": {},
     "output_type": "display_data"
    }
   ],
   "source": [
    "# Plot loss and accuracy curves\n",
    "plt.subplot(1, 2, 1)\n",
    "plt.plot(history.history['loss'], label='train loss')\n",
    "plt.plot(history.history['val_loss'], label='val loss')\n",
    "plt.legend()"
   ]
  },
  {
   "cell_type": "code",
   "execution_count": 15,
   "id": "1606526d",
   "metadata": {},
   "outputs": [
    {
     "data": {
      "text/plain": [
       "<matplotlib.legend.Legend at 0x2108d5eb110>"
      ]
     },
     "execution_count": 15,
     "metadata": {},
     "output_type": "execute_result"
    },
    {
     "data": {
      "image/png": "[encoded data removed]",
      "text/plain": [
       "<Figure size 640x480 with 1 Axes>"
      ]
     },
     "metadata": {},
     "output_type": "display_data"
    }
   ],
   "source": [
    "plt.subplot(1, 2, 2)\n",
    "plt.plot(history.history['accuracy'], label='train accuracy')\n",
    "plt.plot(history.history['val_accuracy'], label='val accuracy')\n",
    "plt.legend()"
   ]
  },
  {
   "cell_type": "code",
   "execution_count": null,
   "id": "f0ee8f63",
   "metadata": {},
   "outputs": [],
   "source": []
  }
 ],
 "metadata": {
  "kernelspec": {
   "display_name": "Python 3 (ipykernel)",
   "language": "python",
   "name": "python3"
  },
  "language_info": {
   "codemirror_mode": {
    "name": "ipython",
    "version": 3
   },
   "file_extension": ".py",
   "mimetype": "text/x-python",
   "name": "python",
   "nbconvert_exporter": "python",
   "pygments_lexer": "ipython3",
   "version": "3.11.5"
  }
 },
 "nbformat": 4,
 "nbformat_minor": 5
}
