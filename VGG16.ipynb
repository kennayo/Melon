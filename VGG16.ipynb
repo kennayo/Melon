{
 "cells": [
  {
   "cell_type": "code",
   "execution_count": 1,
   "id": "b2193cf0",
   "metadata": {},
   "outputs": [
    {
     "name": "stdout",
     "output_type": "stream",
     "text": [
      "WARNING:tensorflow:From C:\\Users\\ken\\anaconda31\\Lib\\site-packages\\keras\\src\\losses.py:2976: The name tf.losses.sparse_softmax_cross_entropy is deprecated. Please use tf.compat.v1.losses.sparse_softmax_cross_entropy instead.\n",
      "\n"
     ]
    }
   ],
   "source": [
    "import tensorflow as tf\n",
    "from tensorflow.keras.preprocessing.image import ImageDataGenerator\n",
    "from tensorflow.keras.applications import VGG16\n",
    "from tensorflow.keras.layers import GlobalAveragePooling2D, Dense\n",
    "from tensorflow.keras.models import Model\n",
    "from tensorflow.keras.optimizers import Adam"
   ]
  },
  {
   "cell_type": "code",
   "execution_count": 2,
   "id": "7455d3ff",
   "metadata": {},
   "outputs": [],
   "source": [
    "# Define image size and directories\n",
    "IMAGE_SIZE = [224, 224]  # VGG16 uses 224x224 input size\n",
    "train_directory = r\"C:\\Users\\ken\\OneDrive\\Desktop\\img.class\\melon_dataset\\train\"\n",
    "test_directory = r\"C:\\Users\\ken\\OneDrive\\Desktop\\img.class\\melon_dataset\\test\"\n",
    "val_directory = r\"C:\\Users\\ken\\OneDrive\\Desktop\\img.class\\melon_dataset\\val\""
   ]
  },
  {
   "cell_type": "code",
   "execution_count": 3,
   "id": "e7a61196",
   "metadata": {},
   "outputs": [],
   "source": [
    "# Data augmentation for training set\n",
    "train_datagen = ImageDataGenerator(\n",
    "    rescale=1./255,\n",
    "    shear_range=0.2,\n",
    "    zoom_range=0.2,\n",
    "    horizontal_flip=True\n",
    ")"
   ]
  },
  {
   "cell_type": "code",
   "execution_count": 4,
   "id": "592641cc",
   "metadata": {},
   "outputs": [],
   "source": [
    "# Data augmentation for testing set (only rescaling)\n",
    "test_datagen = ImageDataGenerator(rescale=1./255)"
   ]
  },
  {
   "cell_type": "code",
   "execution_count": 5,
   "id": "e74032ef",
   "metadata": {},
   "outputs": [
    {
     "name": "stdout",
     "output_type": "stream",
     "text": [
      "Found 1615 images belonging to 10 classes.\n",
      "Found 550 images belonging to 10 classes.\n"
     ]
    }
   ],
   "source": [
    "# Load training and testing sets with data augmentation\n",
    "training_set = train_datagen.flow_from_directory(\n",
    "    train_directory,\n",
    "    target_size=IMAGE_SIZE,\n",
    "    batch_size=32,\n",
    "    class_mode='categorical'\n",
    ")\n",
    "\n",
    "test_set = test_datagen.flow_from_directory(\n",
    "    test_directory,\n",
    "    target_size=IMAGE_SIZE,\n",
    "    batch_size=32,\n",
    "    class_mode='categorical'\n",
    ")"
   ]
  },
  {
   "cell_type": "code",
   "execution_count": 6,
   "id": "73836b7f",
   "metadata": {},
   "outputs": [
    {
     "name": "stdout",
     "output_type": "stream",
     "text": [
      "WARNING:tensorflow:From C:\\Users\\ken\\anaconda31\\Lib\\site-packages\\keras\\src\\backend.py:1398: The name tf.executing_eagerly_outside_functions is deprecated. Please use tf.compat.v1.executing_eagerly_outside_functions instead.\n",
      "\n",
      "WARNING:tensorflow:From C:\\Users\\ken\\anaconda31\\Lib\\site-packages\\keras\\src\\layers\\pooling\\max_pooling2d.py:161: The name tf.nn.max_pool is deprecated. Please use tf.nn.max_pool2d instead.\n",
      "\n",
      "Downloading data from https://storage.googleapis.com/tensorflow/keras-applications/vgg16/vgg16_weights_tf_dim_ordering_tf_kernels_notop.h5\n",
      "58889256/58889256 [==============================] - 4s 0us/step\n"
     ]
    }
   ],
   "source": [
    "# Add preprocessing layer to the front of VGG16\n",
    "vgg16 = VGG16(input_shape=(224, 224, 3), weights='imagenet', include_top=False)"
   ]
  },
  {
   "cell_type": "code",
   "execution_count": 7,
   "id": "ebd71c4c",
   "metadata": {},
   "outputs": [],
   "source": [
    "# Freeze the layers\n",
    "for layer in vgg16.layers:\n",
    "    layer.trainable = False\n",
    "\n",
    "# Global Average Pooling\n",
    "x = GlobalAveragePooling2D()(vgg16.output)\n",
    "\n",
    "# Fully Connected Layer\n",
    "x = Dense(128, activation='relu')(x)\n",
    "\n",
    "# Output Layer\n",
    "output_tensor = Dense(10, activation='softmax')(x)\n",
    "\n",
    "# Create the model\n",
    "model = Model(inputs=vgg16.input, outputs=output_tensor)"
   ]
  },
  {
   "cell_type": "code",
   "execution_count": 8,
   "id": "67bc632e",
   "metadata": {},
   "outputs": [],
   "source": [
    "# Compile the model\n",
    "model.compile(\n",
    "    loss='categorical_crossentropy',\n",
    "    optimizer=Adam(learning_rate=0.001),\n",
    "    metrics=['accuracy']\n",
    ")"
   ]
  },
  {
   "cell_type": "code",
   "execution_count": 9,
   "id": "98c4afd5",
   "metadata": {},
   "outputs": [
    {
     "name": "stdout",
     "output_type": "stream",
     "text": [
      "Epoch 1/10\n",
      "WARNING:tensorflow:From C:\\Users\\ken\\anaconda31\\Lib\\site-packages\\keras\\src\\utils\\tf_utils.py:492: The name tf.ragged.RaggedTensorValue is deprecated. Please use tf.compat.v1.ragged.RaggedTensorValue instead.\n",
      "\n",
      "WARNING:tensorflow:From C:\\Users\\ken\\anaconda31\\Lib\\site-packages\\keras\\src\\engine\\base_layer_utils.py:384: The name tf.executing_eagerly_outside_functions is deprecated. Please use tf.compat.v1.executing_eagerly_outside_functions instead.\n",
      "\n",
      "51/51 [==============================] - 160s 3s/step - loss: 1.8793 - accuracy: 0.3975 - val_loss: 1.6322 - val_accuracy: 0.4691\n",
      "Epoch 2/10\n",
      "51/51 [==============================] - 154s 3s/step - loss: 1.3500 - accuracy: 0.6167 - val_loss: 1.2579 - val_accuracy: 0.6382\n",
      "Epoch 3/10\n",
      "51/51 [==============================] - 159s 3s/step - loss: 1.0842 - accuracy: 0.7003 - val_loss: 1.0686 - val_accuracy: 0.6636\n",
      "Epoch 4/10\n",
      "51/51 [==============================] - 153s 3s/step - loss: 0.9175 - accuracy: 0.7362 - val_loss: 0.9110 - val_accuracy: 0.7309\n",
      "Epoch 5/10\n",
      "51/51 [==============================] - 194s 4s/step - loss: 0.8108 - accuracy: 0.7659 - val_loss: 0.8419 - val_accuracy: 0.7273\n",
      "Epoch 6/10\n",
      "51/51 [==============================] - 207s 4s/step - loss: 0.7163 - accuracy: 0.7969 - val_loss: 0.7501 - val_accuracy: 0.7600\n",
      "Epoch 7/10\n",
      "51/51 [==============================] - 175s 3s/step - loss: 0.6511 - accuracy: 0.8111 - val_loss: 0.7154 - val_accuracy: 0.7582\n",
      "Epoch 8/10\n",
      "51/51 [==============================] - 168s 3s/step - loss: 0.6041 - accuracy: 0.8235 - val_loss: 0.6361 - val_accuracy: 0.8055\n",
      "Epoch 9/10\n",
      "51/51 [==============================] - 146s 3s/step - loss: 0.5598 - accuracy: 0.8409 - val_loss: 0.6062 - val_accuracy: 0.8255\n",
      "Epoch 10/10\n",
      "51/51 [==============================] - 141s 3s/step - loss: 0.5244 - accuracy: 0.8477 - val_loss: 0.5476 - val_accuracy: 0.8400\n"
     ]
    }
   ],
   "source": [
    "# Train the model\n",
    "history = model.fit(\n",
    "    training_set,\n",
    "    validation_data=test_set,\n",
    "    epochs=10,\n",
    "    steps_per_epoch=len(training_set),\n",
    "    validation_steps=len(test_set)\n",
    ")"
   ]
  },
  {
   "cell_type": "code",
   "execution_count": 10,
   "id": "13cb9cef",
   "metadata": {},
   "outputs": [
    {
     "name": "stderr",
     "output_type": "stream",
     "text": [
      "C:\\Users\\ken\\anaconda31\\Lib\\site-packages\\keras\\src\\engine\\training.py:3103: UserWarning: You are saving your model as an HDF5 file via `model.save()`. This file format is considered legacy. We recommend using instead the native Keras format, e.g. `model.save('my_model.keras')`.\n",
      "  saving_api.save_model(\n"
     ]
    }
   ],
   "source": [
    "# Save the model\n",
    "model.save('melon_species_vgg16.h5')"
   ]
  },
  {
   "cell_type": "code",
   "execution_count": 11,
   "id": "7ac2a168",
   "metadata": {},
   "outputs": [
    {
     "data": {
      "text/plain": [
       "<matplotlib.legend.Legend at 0x17e21bec210>"
      ]
     },
     "execution_count": 11,
     "metadata": {},
     "output_type": "execute_result"
    },
    {
     "data": {
      "image/png": "[encoded data removed]",
      "text/plain": [
       "<Figure size 640x480 with 1 Axes>"
      ]
     },
     "metadata": {},
     "output_type": "display_data"
    }
   ],
   "source": [
    "import matplotlib.pyplot as plt\n",
    "\n",
    "# Plot loss and accuracy curves\n",
    "plt.subplot(1, 2, 1)\n",
    "plt.plot(history.history['loss'], label='train loss')\n",
    "plt.plot(history.history['val_loss'], label='val loss')\n",
    "plt.legend()"
   ]
  },
  {
   "cell_type": "code",
   "execution_count": 12,
   "id": "4cdb00a7",
   "metadata": {},
   "outputs": [
    {
     "data": {
      "text/plain": [
       "<matplotlib.legend.Legend at 0x17e21c48b10>"
      ]
     },
     "execution_count": 12,
     "metadata": {},
     "output_type": "execute_result"
    },
    {
     "data": {
      "image/png": "[encoded data removed]",
      "text/plain": [
       "<Figure size 640x480 with 1 Axes>"
      ]
     },
     "metadata": {},
     "output_type": "display_data"
    }
   ],
   "source": [
    "plt.subplot(1, 2, 2)\n",
    "plt.plot(history.history['accuracy'], label='train accuracy')\n",
    "plt.plot(history.history['val_accuracy'], label='val accuracy')\n",
    "plt.legend()"
   ]
  },
  {
   "cell_type": "code",
   "execution_count": null,
   "id": "4573c266",
   "metadata": {},
   "outputs": [],
   "source": []
  }
 ],
 "metadata": {
  "kernelspec": {
   "display_name": "Python 3 (ipykernel)",
   "language": "python",
   "name": "python3"
  },
  "language_info": {
   "codemirror_mode": {
    "name": "ipython",
    "version": 3
   },
   "file_extension": ".py",
   "mimetype": "text/x-python",
   "name": "python",
   "nbconvert_exporter": "python",
   "pygments_lexer": "ipython3",
   "version": "3.11.5"
  }
 },
 "nbformat": 4,
 "nbformat_minor": 5
}
