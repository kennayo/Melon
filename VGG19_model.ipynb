{
 "cells": [
  {
   "cell_type": "code",
   "execution_count": 1,
   "id": "8df3b8e1",
   "metadata": {},
   "outputs": [
    {
     "name": "stdout",
     "output_type": "stream",
     "text": [
      "WARNING:tensorflow:From C:\\Users\\adrie\\AppData\\Roaming\\Python\\Python311\\site-packages\\keras\\src\\losses.py:2976: The name tf.losses.sparse_softmax_cross_entropy is deprecated. Please use tf.compat.v1.losses.sparse_softmax_cross_entropy instead.\n",
      "\n"
     ]
    }
   ],
   "source": [
    "import tensorflow as tf\n",
    "from tensorflow.keras.preprocessing.image import ImageDataGenerator\n",
    "from tensorflow.keras.applications import VGG19\n",
    "from tensorflow.keras.layers import GlobalAveragePooling2D, Dense\n",
    "from tensorflow.keras.models import Model\n",
    "from tensorflow.keras.optimizers import Adam"
   ]
  },
  {
   "cell_type": "code",
   "execution_count": 2,
   "id": "a1d08a46",
   "metadata": {},
   "outputs": [],
   "source": [
    "# Define image size and directories\n",
    "IMAGE_SIZE = [224, 224]  # VGG19 uses 224x224 input size\n",
    "train_directory = r\"C:\\Users\\adrie\\OneDrive\\Desktop\\img.class\\melon_dataset\\train\"\n",
    "test_directory = r\"C:\\Users\\adrie\\OneDrive\\Desktop\\img.class\\melon_dataset\\test\"\n",
    "val_directory = r\"C:\\Users\\adrie\\OneDrive\\Desktop\\img.class\\melon_dataset\\val\""
   ]
  },
  {
   "cell_type": "code",
   "execution_count": 3,
   "id": "79c38163",
   "metadata": {},
   "outputs": [],
   "source": [
    "# Data augmentation for training set\n",
    "train_datagen = ImageDataGenerator(\n",
    "    rescale=1./255,\n",
    "    shear_range=0.2,\n",
    "    zoom_range=0.2,\n",
    "    horizontal_flip=True\n",
    ")"
   ]
  },
  {
   "cell_type": "code",
   "execution_count": 4,
   "id": "a6f2e4a8",
   "metadata": {},
   "outputs": [],
   "source": [
    "# Data augmentation for testing set (only rescaling)\n",
    "test_datagen = ImageDataGenerator(rescale=1./255)"
   ]
  },
  {
   "cell_type": "code",
   "execution_count": 5,
   "id": "46c92f56",
   "metadata": {},
   "outputs": [
    {
     "name": "stdout",
     "output_type": "stream",
     "text": [
      "Found 1615 images belonging to 10 classes.\n",
      "Found 550 images belonging to 10 classes.\n"
     ]
    }
   ],
   "source": [
    "# Load training and testing sets with data augmentation\n",
    "training_set = train_datagen.flow_from_directory(\n",
    "    train_directory,\n",
    "    target_size=IMAGE_SIZE,\n",
    "    batch_size=32,\n",
    "    class_mode='categorical'\n",
    ")\n",
    "\n",
    "test_set = test_datagen.flow_from_directory(\n",
    "    test_directory,\n",
    "    target_size=IMAGE_SIZE,\n",
    "    batch_size=32,\n",
    "    class_mode='categorical'\n",
    ")"
   ]
  },
  {
   "cell_type": "code",
   "execution_count": 6,
   "id": "ac28d876",
   "metadata": {},
   "outputs": [
    {
     "name": "stdout",
     "output_type": "stream",
     "text": [
      "WARNING:tensorflow:From C:\\Users\\adrie\\AppData\\Roaming\\Python\\Python311\\site-packages\\keras\\src\\backend.py:1398: The name tf.executing_eagerly_outside_functions is deprecated. Please use tf.compat.v1.executing_eagerly_outside_functions instead.\n",
      "\n",
      "WARNING:tensorflow:From C:\\Users\\adrie\\AppData\\Roaming\\Python\\Python311\\site-packages\\keras\\src\\layers\\pooling\\max_pooling2d.py:161: The name tf.nn.max_pool is deprecated. Please use tf.nn.max_pool2d instead.\n",
      "\n"
     ]
    }
   ],
   "source": [
    "# Add preprocessing layer to the front of VGG19\n",
    "vgg19 = VGG19(input_shape=(224, 224, 3), weights='imagenet', include_top=False)"
   ]
  },
  {
   "cell_type": "code",
   "execution_count": 7,
   "id": "0dcb838c",
   "metadata": {},
   "outputs": [],
   "source": [
    "# Freeze the layers\n",
    "for layer in vgg19.layers:\n",
    "    layer.trainable = False\n",
    "\n",
    "# Global Average Pooling\n",
    "x = GlobalAveragePooling2D()(vgg19.output)\n",
    "\n",
    "# Fully Connected Layer\n",
    "x = Dense(128, activation='relu')(x)\n",
    "\n",
    "# Output Layer\n",
    "output_tensor = Dense(10, activation='softmax')(x)\n",
    "\n",
    "# Create the model\n",
    "model = Model(inputs=vgg19.input, outputs=output_tensor)"
   ]
  },
  {
   "cell_type": "code",
   "execution_count": 8,
   "id": "765b2b13",
   "metadata": {},
   "outputs": [],
   "source": [
    "# Compile the model\n",
    "model.compile(\n",
    "    loss='categorical_crossentropy',\n",
    "    optimizer=Adam(learning_rate=0.001),\n",
    "    metrics=['accuracy']\n",
    ")"
   ]
  },
  {
   "cell_type": "code",
   "execution_count": 9,
   "id": "2fbf217a",
   "metadata": {},
   "outputs": [
    {
     "name": "stdout",
     "output_type": "stream",
     "text": [
      "Epoch 1/10\n",
      "WARNING:tensorflow:From C:\\Users\\adrie\\AppData\\Roaming\\Python\\Python311\\site-packages\\keras\\src\\utils\\tf_utils.py:492: The name tf.ragged.RaggedTensorValue is deprecated. Please use tf.compat.v1.ragged.RaggedTensorValue instead.\n",
      "\n",
      "WARNING:tensorflow:From C:\\Users\\adrie\\AppData\\Roaming\\Python\\Python311\\site-packages\\keras\\src\\engine\\base_layer_utils.py:384: The name tf.executing_eagerly_outside_functions is deprecated. Please use tf.compat.v1.executing_eagerly_outside_functions instead.\n",
      "\n",
      "51/51 [==============================] - 220s 4s/step - loss: 1.9530 - accuracy: 0.3585 - val_loss: 1.7175 - val_accuracy: 0.4273\n",
      "Epoch 2/10\n",
      "51/51 [==============================] - 232s 5s/step - loss: 1.4864 - accuracy: 0.5653 - val_loss: 1.4009 - val_accuracy: 0.5545\n",
      "Epoch 3/10\n",
      "51/51 [==============================] - 233s 5s/step - loss: 1.2425 - accuracy: 0.6489 - val_loss: 1.2335 - val_accuracy: 0.6291\n",
      "Epoch 4/10\n",
      "51/51 [==============================] - 253s 5s/step - loss: 1.0804 - accuracy: 0.6867 - val_loss: 1.0612 - val_accuracy: 0.7109\n",
      "Epoch 5/10\n",
      "51/51 [==============================] - 228s 4s/step - loss: 0.9804 - accuracy: 0.7121 - val_loss: 0.9980 - val_accuracy: 0.6818\n",
      "Epoch 6/10\n",
      "51/51 [==============================] - 241s 5s/step - loss: 0.8859 - accuracy: 0.7282 - val_loss: 0.8653 - val_accuracy: 0.7327\n",
      "Epoch 7/10\n",
      "51/51 [==============================] - 232s 5s/step - loss: 0.8069 - accuracy: 0.7647 - val_loss: 0.8108 - val_accuracy: 0.7636\n",
      "Epoch 8/10\n",
      "51/51 [==============================] - 215s 4s/step - loss: 0.7501 - accuracy: 0.7752 - val_loss: 0.7756 - val_accuracy: 0.7582\n",
      "Epoch 9/10\n",
      "51/51 [==============================] - 217s 4s/step - loss: 0.7053 - accuracy: 0.7864 - val_loss: 0.7185 - val_accuracy: 0.7855\n",
      "Epoch 10/10\n",
      "51/51 [==============================] - 221s 4s/step - loss: 0.6528 - accuracy: 0.8012 - val_loss: 0.6771 - val_accuracy: 0.7855\n"
     ]
    }
   ],
   "source": [
    "# Train the model\n",
    "history = model.fit(\n",
    "    training_set,\n",
    "    validation_data=test_set,\n",
    "    epochs=10,\n",
    "    steps_per_epoch=len(training_set),\n",
    "    validation_steps=len(test_set)\n",
    ")"
   ]
  },
  {
   "cell_type": "code",
   "execution_count": 10,
   "id": "93fb8e9b",
   "metadata": {},
   "outputs": [
    {
     "name": "stderr",
     "output_type": "stream",
     "text": [
      "C:\\Users\\adrie\\AppData\\Roaming\\Python\\Python311\\site-packages\\keras\\src\\engine\\training.py:3103: UserWarning: You are saving your model as an HDF5 file via `model.save()`. This file format is considered legacy. We recommend using instead the native Keras format, e.g. `model.save('my_model.keras')`.\n",
      "  saving_api.save_model(\n"
     ]
    }
   ],
   "source": [
    "# Save the model\n",
    "model.save('melon_species_vgg19.h5')\n",
    "\n",
    "import matplotlib.pyplot as plt"
   ]
  },
  {
   "cell_type": "code",
   "execution_count": 11,
   "id": "dbdb8114",
   "metadata": {},
   "outputs": [
    {
     "data": {
      "text/plain": [
       "<matplotlib.legend.Legend at 0x12cb11cd0d0>"
      ]
     },
     "execution_count": 11,
     "metadata": {},
     "output_type": "execute_result"
    },
    {
     "data": {
      "image/png": "[encoded data removed]",
      "text/plain": [
       "<Figure size 640x480 with 1 Axes>"
      ]
     },
     "metadata": {},
     "output_type": "display_data"
    }
   ],
   "source": [
    "# Plot loss and accuracy curves\n",
    "plt.subplot(1, 2, 1)\n",
    "plt.plot(history.history['loss'], label='train loss')\n",
    "plt.plot(history.history['val_loss'], label='val loss')\n",
    "plt.legend()"
   ]
  },
  {
   "cell_type": "code",
   "execution_count": 12,
   "id": "c93e5e52",
   "metadata": {},
   "outputs": [
    {
     "data": {
      "text/plain": [
       "<matplotlib.legend.Legend at 0x12cb122a3d0>"
      ]
     },
     "execution_count": 12,
     "metadata": {},
     "output_type": "execute_result"
    },
    {
     "data": {
      "image/png": "[encoded data removed]",
      "text/plain": [
       "<Figure size 640x480 with 1 Axes>"
      ]
     },
     "metadata": {},
     "output_type": "display_data"
    }
   ],
   "source": [
    "plt.subplot(1, 2, 2)\n",
    "plt.plot(history.history['accuracy'], label='train accuracy')\n",
    "plt.plot(history.history['val_accuracy'], label='val accuracy')\n",
    "plt.legend()"
   ]
  },
  {
   "cell_type": "code",
   "execution_count": null,
   "id": "ac4e4996",
   "metadata": {},
   "outputs": [],
   "source": []
  }
 ],
 "metadata": {
  "kernelspec": {
   "display_name": "Python 3 (ipykernel)",
   "language": "python",
   "name": "python3"
  },
  "language_info": {
   "codemirror_mode": {
    "name": "ipython",
    "version": 3
   },
   "file_extension": ".py",
   "mimetype": "text/x-python",
   "name": "python",
   "nbconvert_exporter": "python",
   "pygments_lexer": "ipython3",
   "version": "3.11.5"
  }
 },
 "nbformat": 4,
 "nbformat_minor": 5
}
